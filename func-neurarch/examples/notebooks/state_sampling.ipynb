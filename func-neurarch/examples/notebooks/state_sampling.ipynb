{
 "cells": [
  {
   "cell_type": "code",
   "execution_count": 1,
   "metadata": {
    "pycharm": {
     "is_executing": false,
     "name": "#%%\n"
    }
   },
   "outputs": [
    {
     "name": "stdout",
     "output_type": "stream",
     "text": [
      "** mayavi.mlab ** package is not installed. To have functions using mayavi.mlab please install the package.\n",
      "** pyspike ** package is not installed. To have functions using pyspike please install the package.\n",
      "** pyspike ** package is not installed. To have functions using pyspike please install the package.\n"
     ]
    }
   ],
   "source": [
    "import numpy as np\n",
    "from tasks.symbolic.embeddings import VectorEmbeddings\n",
    "from examples import example_defaults"
   ]
  },
  {
   "cell_type": "markdown",
   "metadata": {},
   "source": [
    "At any given point in time, the population responses $\\mathbf{x}(t)=F(\\mathbf{x}, \\mathbf{u})$ contain information about current and past inputs, reverberating in the system states, as well as transformations performed on the input through the nonlinear projections. To assess the information content and the usefulness of such internal states to perform certain tasks, we first need strategies to adequately gather the population response vectors such that they directly relate to the input process, while avoiding memory overflow.  "
   ]
  },
  {
   "cell_type": "markdown",
   "metadata": {},
   "source": [
    "------\n",
    "Preliminary steps\n",
    "\n",
    "**Note:** For simplicity, we will just use default task and network instanciations... "
   ]
  },
  {
   "cell_type": "markdown",
   "metadata": {},
   "source": [
    "* Initialize NEST kernel"
   ]
  },
  {
   "cell_type": "code",
   "execution_count": 2,
   "metadata": {},
   "outputs": [],
   "source": [
    "resolution = 0.1\n",
    "example_defaults.reset_kernel(resolution=resolution, np_seed=123456)"
   ]
  },
  {
   "cell_type": "markdown",
   "metadata": {},
   "source": [
    "* Create target network (SNN) - here load a simple default SNN"
   ]
  },
  {
   "cell_type": "code",
   "execution_count": 3,
   "metadata": {},
   "outputs": [
    {
     "name": "stderr",
     "output_type": "stream",
     "text": [
      "[__init__.py:47 - INFO] Initializing Brunel BRN architecture (NEST-simulated)\n",
      "[__init__.py:97 - INFO] Creating populations:\n",
      "[__init__.py:121 - INFO] - Population E, with ids [1-80]\n",
      "[__init__.py:121 - INFO] - Population I, with ids [81-100]\n",
      "[__init__.py:488 - INFO] Connecting Devices: \n",
      "[__init__.py:129 - INFO]   - Attaching spike_detector with gid [(101,)] to population E\n",
      "[__init__.py:509 - INFO] - Connecting spike_detector to E, with label E_spike_detector and id (101,)\n",
      "[__init__.py:129 - INFO]   - Attaching spike_detector with gid [(102,)] to population I\n",
      "[__init__.py:509 - INFO] - Connecting spike_detector to I, with label I_spike_detector and id (102,)\n",
      "[__init__.py:205 - INFO] Randomizing initial values:\n",
      "[__init__.py:95 - INFO] - Randomizing V_m state in Population E\n",
      "[__init__.py:95 - INFO] - Randomizing V_m state in Population I\n",
      "[__init__.py:1008 - INFO] ========================================================\n",
      "[__init__.py:1009 - INFO]  Brunel BRN architecture (NEST-simulated):\n",
      "[__init__.py:1010 - INFO] --------------------------------------------------------\n",
      "[__init__.py:1011 - INFO] - 2 Populations: ['E', 'I']\n",
      "[__init__.py:1012 - INFO] - Size: 100 [80, 20]\n",
      "[__init__.py:1014 - INFO] - Neuron models: ['iaf_psc_delta', 'iaf_psc_delta']\n",
      "[__init__.py:1015 - INFO] - [1, 1] Devices connected: [['E_spike_detector'], ['I_spike_detector']]\n",
      "[__init__.py:1017 - INFO]     E: ['E_spike_detector'], ['spike_detector']\n",
      "[__init__.py:1017 - INFO]     I: ['I_spike_detector'], ['spike_detector']\n",
      "[connectivity.py:187 - INFO] Connecting networks: Brunel BRN -> Brunel BRN\n",
      "[connectivity.py:196 - INFO]     - ('E', 'E') [static_synapse]\n",
      "[connectivity.py:196 - INFO]     - ('E', 'I') [static_synapse]\n",
      "[connectivity.py:196 - INFO]     - ('I', 'E') [static_synapse]\n",
      "[connectivity.py:196 - INFO]     - ('I', 'I') [static_synapse]\n"
     ]
    },
    {
     "name": "stdout",
     "output_type": "stream",
     "text": [
      "\n",
      "Loading default neuron parameter - iaf_psc_delta, fixed voltage threshold, fixed absolute refractory time\n"
     ]
    }
   ],
   "source": [
    "snn, snn_recurrent_connections = example_defaults.default_network(record_spikes=True)"
   ]
  },
  {
   "cell_type": "markdown",
   "metadata": {},
   "source": [
    "* Create an input sequencer and sequence of length 10. "
   ]
  },
  {
   "cell_type": "code",
   "execution_count": 4,
   "metadata": {
    "pycharm": {
     "is_executing": false,
     "name": "#%%\n"
    }
   },
   "outputs": [
    {
     "name": "stderr",
     "output_type": "stream",
     "text": [
      "[sequences.py:132 - INFO] Generating symbolic sequencer\n",
      "[sequences.py:161 - INFO] Generating a random sequence of length 10, from a set of 10 symbols\n"
     ]
    }
   ],
   "source": [
    "sequencer, sequence = example_defaults.default_tasks(n_tokens=10, T=10)"
   ]
  },
  {
   "cell_type": "markdown",
   "metadata": {
    "pycharm": {
     "name": "#%% md\n"
    }
   },
   "source": [
    "* Create a [vector embedding](embeddings.ipynb#section3.1) (or any other) for this example"
   ]
  },
  {
   "cell_type": "code",
   "execution_count": 5,
   "metadata": {
    "pycharm": {
     "is_executing": false,
     "name": "#%%\n"
    }
   },
   "outputs": [
    {
     "name": "stderr",
     "output_type": "stream",
     "text": [
      "[embeddings.py:28 - INFO] Creating symbolic embeddings\n",
      "[embeddings.py:91 - INFO] - 10 symbols encoded as binary-codeword\n"
     ]
    }
   ],
   "source": [
    "emb = VectorEmbeddings(vocabulary=sequencer.tokens).binary_codeword(dim=100, density=0.1)"
   ]
  },
  {
   "cell_type": "markdown",
   "metadata": {},
   "source": [
    "* Generate discrete stimulus sequence and convert it to continuous input by unfolding the stimulus representations \n",
    "in time (see [unfolding embeddings](embeddings.ipynb#section4.1.2)), or, alternatively, convert each token to a unique \n",
    "spatiotemporal spike pattern (see [frozen noise embeddings](embeddings.ipynb#section4.1.1)):"
   ]
  },
  {
   "cell_type": "code",
   "execution_count": 6,
   "metadata": {
    "pycharm": {
     "is_executing": false,
     "name": "#%%\n"
    }
   },
   "outputs": [
    {
     "name": "stderr",
     "output_type": "stream",
     "text": [
      "[embeddings.py:219 - INFO] Generating stimulus sequence: 10 symbols\n",
      "[embeddings.py:28 - INFO] Creating symbolic embeddings\n",
      "[embeddings.py:362 - INFO] Populating Stimulus Set: \n",
      "[embeddings.py:91 - INFO] - 10 symbols encoded as continuous signal unfolding\n"
     ]
    }
   ],
   "source": [
    "discrete_stim_seq = emb.draw_stimulus_sequence(sequence, as_array=True)\n",
    "\n",
    "signal_pars = {'duration': 50.,'amplitude': 250.,'kernel': ('box', {}),'dt': resolution}\n",
    "signal = emb.unfold(to_signal=True, **signal_pars)"
   ]
  },
  {
   "cell_type": "markdown",
   "metadata": {},
   "source": [
    "* Draw stimulus sequence:"
   ]
  },
  {
   "cell_type": "code",
   "execution_count": 7,
   "metadata": {
    "pycharm": {
     "is_executing": false,
     "name": "#%%\n"
    }
   },
   "outputs": [
    {
     "name": "stderr",
     "output_type": "stream",
     "text": [
      "[embeddings.py:655 - INFO] Generating stimulus sequence: 10 symbols\n",
      "[embeddings.py:605 - INFO] Concatenating stimulus sequence\n"
     ]
    }
   ],
   "source": [
    "stim_isi = 10.\n",
    "stim_seq, stim_info = signal.draw_stimulus_sequence(sequence, onset_time=0.1, continuous=True, intervals=stim_isi)"
   ]
  },
  {
   "cell_type": "markdown",
   "metadata": {},
   "source": [
    "* Encode stimuli (see [encodings](encodings.ipynb#section6)):\n",
    "    * Stimuli are provided in `batches` comprising sequences of length $T$.\n",
    "    * SNNs are a special case, as the input needs to be delivered in specific forms and requires the use of NEST generator devices."
   ]
  },
  {
   "cell_type": "code",
   "execution_count": 8,
   "metadata": {
    "pycharm": {
     "is_executing": false,
     "name": "#%%\n"
    }
   },
   "outputs": [],
   "source": [
    "from encoders import NESTEncoder, InputMapper"
   ]
  },
  {
   "cell_type": "code",
   "execution_count": 9,
   "metadata": {
    "pycharm": {
     "is_executing": false,
     "name": "#%%\n"
    }
   },
   "outputs": [
    {
     "name": "stderr",
     "output_type": "stream",
     "text": [
      "[__init__.py:35 - INFO] Creating Generators: \n",
      "[__init__.py:38 - INFO] - poisson-input [(103,)-(202,)]\n",
      "[__init__.py:45 - INFO] Creating input parrots for poisson-input:\n",
      "[__init__.py:77 - INFO] - Population poisson-input-parrots, with ids [203-302]\n",
      "[__init__.py:129 - INFO]   - Attaching spike_detector with gid [(303,)] to population input-parrots\n"
     ]
    }
   ],
   "source": [
    "gen = NESTEncoder('inhomogeneous_poisson_generator', stim_seq=stim_seq, label='poisson-input',\n",
    "                              dim=emb.embedding_dimensions)\n",
    "gen.add_parrots(dt=resolution)"
   ]
  },
  {
   "cell_type": "markdown",
   "metadata": {},
   "source": [
    "* Connect encoders"
   ]
  },
  {
   "cell_type": "code",
   "execution_count": 10,
   "metadata": {
    "pycharm": {
     "is_executing": false,
     "name": "#%%\n"
    }
   },
   "outputs": [
    {
     "name": "stderr",
     "output_type": "stream",
     "text": [
      "[__init__.py:116 - INFO] Connecting input generators: poisson-input -> Brunel BRN\n",
      "[__init__.py:127 - INFO]     - ('E', 'poisson-input') [static_synapse]\n",
      "[__init__.py:127 - INFO]     - ('I', 'poisson-input') [static_synapse]\n"
     ]
    }
   ],
   "source": [
    "# input synapses\n",
    "input_syn = {'model': 'static_synapse', 'delay': 0.1, 'weight': 3.}\n",
    "input_conn = {'rule': 'all_to_all'}\n",
    "\n",
    "input_synapses = {\n",
    "    'connect_populations': [('E', gen.name), ('I', gen.name),],\n",
    "    'weight_matrix': [None, None],\n",
    "    'conn_specs': [input_conn, input_conn],\n",
    "    'syn_specs': [input_syn, input_syn]\n",
    "}\n",
    "input_to_snn_connections = InputMapper(source=gen, target=snn, parameters=input_synapses)"
   ]
  },
  {
   "cell_type": "markdown",
   "metadata": {},
   "source": [
    "----"
   ]
  },
  {
   "cell_type": "markdown",
   "metadata": {},
   "source": [
    "# **11. State extraction and sampling - gathering population responses** <a id='section11'></a>\n",
    "\n",
    "SNNs constitute a very special case, where not only the [encoding/stimulation](encodings.ipynb#section6.1) processes, but also the recording and state acquisition processes rely on `NEST` devices and thus present several unique challenges, particularly due to the non-zero delays introduced when connecting devices. To gather state samples at the correct times, we need to compensate for the delays. \n",
    "\n",
    "The `SpikingExtractor` class takes care of all these specificities. It is instantiated with a parameter dictionary containing all the desired sampling strategies, with the following structure:"
   ]
  },
  {
   "cell_type": "markdown",
   "metadata": {},
   "source": [
    "```python\n",
    "extractor_parameters = {\n",
    "    'unique_label': {\n",
    "        'population': ['E', 'I'],   # population or list of populations to record the activity from\n",
    "        'variable': 'spikes',       # state variable - 'V_m' or 'spikes'\n",
    "        'filter_time': 20.,         # exponential, low-pass filter time constant (if variable==spikes)\n",
    "        'average_states': True,     # average activity within one stimulus, to obtain one unique state vector\n",
    "        'sampling_rate': 100.,      # Hz - rate at which to sample the states\n",
    "        'sampling_times': None,     # \n",
    "        'sample_isi': False         # if False, only sample during stimuli and discard samples from the isi\n",
    "    },\n",
    "}\n",
    "```"
   ]
  },
  {
   "cell_type": "markdown",
   "metadata": {},
   "source": [
    "## 11.1. Fixed and constant signal durations and ISIs\n",
    "\n",
    "We start with the simplest case, where all stimuli have a fixed duration and ISI and so the responses can be sampled without additional corrections. "
   ]
  },
  {
   "cell_type": "markdown",
   "metadata": {},
   "source": [
    "In the following examples, the expected sampling times are illustrative and rely on `stim_onset = 0.1` and `encoding_delay = 0.1`, adjusted for any potential decoding delay. There are 10 stimuli, each with a duration of 50 ms followed by an inter-stimulus interval of 10 ms.\n",
    "\n",
    "    \n",
    "### 11.1.1. Sampling at a fixed rate\n",
    "\n",
    "This sampling method relies on gathering samples of the population state at regular intervals, determined by the `sampling_rate` parameter. This procedure results in a single `StateMatrix`, containing all the samples. If `average_states=True`, the samples are averaged within each stimulus+isi window, resulting in a single, representative state vector per stimulus. If the stimulus duration and ISI are fixed, the rate-based sampling strategy requires that the length of the stimulus+isi be a multiple of the sampling rate so that the number of samples acquired for each stimulus (+isi) is constant. For variable duration and ISI length, see [this example](state_sampling_variable.ipynb). \n",
    "    \n",
    "\n",
    "**Important note:** The sampled times corresponding to each stimulus are always relative to ~~stimulus onset.~~ to `0.`, and have an offset of `encoding_delay` relative to the stimulus onset `stim_onset`. For instance, in the case of a stimulus lasting 50 ms with an onset at 0.1 ms, simulation resolution 0.1 ms and sampling rate of 10kHz, the recorded times of the 500 samples lie in the closed interval `[0.2, 50.1]`. This ensures that the entire stimulus is \"captured\" in the activity recorded from the network. For more details and other scenarios, see the examples below."
   ]
  },
  {
   "cell_type": "markdown",
   "metadata": {},
   "source": [
    "The below specification will sample the activity at every 10 ms, resulting in state vectors representing averaged activity across the following windows: `mean([10.1, 20.1, ... 50.1])`, ... , `mean([540.1, 550.1, ... 590.1])`. There will be 10 samples recorded in total (len(sequence))."
   ]
  },
  {
   "cell_type": "code",
   "execution_count": 11,
   "metadata": {
    "pycharm": {
     "is_executing": false,
     "name": "#%%\n"
    }
   },
   "outputs": [],
   "source": [
    "extractor_parameters = {\n",
    "    # state extractor label, must be unique\n",
    "    'my_label_tau20_EI': {\n",
    "        'population': ['E', 'I'],   # if list, extract from merged populations\n",
    "        'variable': 'spikes',       # state variable\n",
    "        'filter_time': 20.,         # time constant to filter the spiking activity with \n",
    "        'average_states': True,     # average activity within one stimulus. Sampling rate must be \n",
    "                                    # compatible with the stimulus length + isi. State matrix will be N x T\n",
    "        'sampling_rate': 100.,      # Hz - one state matrix containing all the sampled time points\n",
    "        'sample_isi': False         # if False, only sample during stimuli and discard samples from the isi\n",
    "    },\n",
    "}"
   ]
  },
  {
   "cell_type": "markdown",
   "metadata": {},
   "source": [
    "The following example illustrates an **erroneous configuration**. Consider the current example where `stim_duration = 50` but `stim_isi = 6 # (ms)`. `stim_onset = 0.1` and `encoding_delay = 0.1` remain unchanged. The example below would then yield 5 samples (no samples can be recorded during the ISI) for the first stimulus running 0.1 - 56.0 ms, at `[10.1, ..., 50.1]`, and 6 samples for the second stimulus running between 56.1 - 112.0, at `[60.1, 70.1, ..., 110.1.]`. This is because the sampling rate is fixed and relative to the first stimulus onset. In this case, it records a sample at every 10 ms, irrespective of the onset times of the later stimuli."
   ]
  },
  {
   "cell_type": "code",
   "execution_count": 12,
   "metadata": {},
   "outputs": [],
   "source": [
    "# will be discarded\n",
    "wrong_config = { \n",
    "    'label_can_be_anything': {\n",
    "        'population': 'E',   \n",
    "        'variable': 'spikes',       \n",
    "        'filter_time': 20.,         \n",
    "        'sampling_rate': 100.,      # this samples the timeline at 10 ms intervals\n",
    "        'sample_isi': True          # sample during stimuli and ISI\n",
    "    },\n",
    "}"
   ]
  },
  {
   "cell_type": "markdown",
   "metadata": {
    "pycharm": {
     "name": "#%% md\n"
    }
   },
   "source": [
    "### 11.1.2. Sampling at stimulus offset\n",
    "\n",
    "The most commonly used state acquisition strategy consists of gathering a single state vector $\\mathbf{x}$, typically at stimulus offset. The following parameter configuration sample at fixed offsets relative to stimulus onset. Obviously, the `sample_isi` parameter does not have an effect here. For the running example (see above), the first stimulus ends at `50.0` ms (including), but as there can still be a last spike at exactly `50.0` ms which must be captured, we consider the offset to be at `50.1` ms."
   ]
  },
  {
   "cell_type": "code",
   "execution_count": 13,
   "metadata": {
    "pycharm": {
     "is_executing": false,
     "name": "#%%\n"
    }
   },
   "outputs": [],
   "source": [
    "extractor_parameters.update({\n",
    "    'extractor_fixed_Vm_I': {\n",
    "        'population': 'I',\n",
    "        'variable': 'V_m',\n",
    "        'average_states': False,  # always set to False when sampling at offset\n",
    "        'sampling_times': ['stim_offset']\n",
    "    }\n",
    "})"
   ]
  },
  {
   "cell_type": "markdown",
   "metadata": {
    "pycharm": {
     "name": "#%% md\n"
    }
   },
   "source": [
    "    \n",
    "Sample during isi (60 samples in total):\n"
   ]
  },
  {
   "cell_type": "code",
   "execution_count": 14,
   "metadata": {},
   "outputs": [],
   "source": [
    "extractor_parameters.update({\n",
    "    'extractor_isi_sampling': {\n",
    "        'population': 'E',\n",
    "        'variable': 'spikes',\n",
    "        'filter_time': 15.,\n",
    "        'sampling_rate': 100.,\n",
    "        'sample_isi': True\n",
    "    }\n",
    "})"
   ]
  },
  {
   "cell_type": "markdown",
   "metadata": {},
   "source": [
    "Some additional examples for plotting purposes..."
   ]
  },
  {
   "cell_type": "code",
   "execution_count": 15,
   "metadata": {
    "pycharm": {
     "is_executing": false,
     "name": "#%%\n"
    }
   },
   "outputs": [],
   "source": [
    "extractor_parameters.update({\n",
    "    'extractor_rate100_spikes_E': {\n",
    "        'population': 'E',\n",
    "        'variable': 'spikes',\n",
    "        'filter_time': 15.,\n",
    "        'sampling_rate': 100.,\n",
    "    },\n",
    "    'extractor_rate1000_spikes_E': {\n",
    "        'population': 'E',\n",
    "        'variable': 'spikes',\n",
    "        'filter_time': 15.,\n",
    "        'sampling_rate': 1000.,\n",
    "    },\n",
    "        'extractor_rate10000_spikes_E': {\n",
    "        'population': 'E',\n",
    "        'variable': 'spikes',\n",
    "        'filter_time': 15.,        \n",
    "        'sampling_rate': 10000.,\n",
    "    },\n",
    "    'extractor_rate10000_Vm_E': {\n",
    "        'population': 'E',\n",
    "        'variable': 'V_m',        \n",
    "        'sampling_rate': 10000.,\n",
    "    }\n",
    "})"
   ]
  },
  {
   "cell_type": "markdown",
   "metadata": {},
   "source": [
    "### 11.1.3. Creating and connecting state extractors \n",
    "\n",
    "The extractor parameters exemplified above can all be used (simultaneously or not) to acquire different samples of the population dynamics. To create and connect all extractor devices, we simply use the `connect_state_extractors` method of the `SpikingNetwork` object. \n",
    "\n",
    "**Note:** Both stimulating and recording devices introduce delays which need to be accounted and compensated for in order to acquire the relative responses at the correct times."
   ]
  },
  {
   "cell_type": "code",
   "execution_count": 16,
   "metadata": {
    "pycharm": {
     "is_executing": false,
     "name": "#%%\n"
    }
   },
   "outputs": [
    {
     "name": "stderr",
     "output_type": "stream",
     "text": [
      "[extractors.py:487 - INFO] Connecting extractors (SpikingExtractor):\n",
      "[extractors.py:494 - INFO] \t- State [my_label_tau20_EI] from populations ['E', 'I'] [spikes]\n",
      "[extractors.py:306 - INFO] \t  - Extractor (rate sampling)\n",
      "[extractors.py:307 - INFO] \t\t- offset = 10.299999999999999 ms (stimulus onset + total delay + sim_res step)\n",
      "[extractors.py:308 - INFO] \t\t- interval = 10.0 ms\n",
      "[extractors.py:527 - INFO] \t\t- total delays = 0.30000000000000004 ms (0.1 encoder + 0.2 extractor delay)\n",
      "[extractors.py:528 - INFO] \t\t- NEST device id(s): [404]\n",
      "[extractors.py:494 - INFO] \t- State [extractor_fixed_Vm_I] from populations I [V_m]\n",
      "[extractors.py:306 - INFO] \t  - Extractor (offset sampling)\n",
      "[extractors.py:307 - INFO] \t\t- offset = 50.2 ms (stimulus onset + total delay + sim_res step)\n",
      "[extractors.py:308 - INFO] \t\t- interval = 60.0 ms\n",
      "[extractors.py:527 - INFO] \t\t- total delays = 0.2 ms (0.1 encoder + 0.1 extractor delay)\n",
      "[extractors.py:528 - INFO] \t\t- NEST device id(s): [405]\n",
      "[extractors.py:494 - INFO] \t- State [extractor_isi_sampling] from populations E [spikes]\n",
      "[extractors.py:306 - INFO] \t  - Extractor (rate sampling)\n",
      "[extractors.py:307 - INFO] \t\t- offset = 10.299999999999999 ms (stimulus onset + total delay + sim_res step)\n",
      "[extractors.py:308 - INFO] \t\t- interval = 10.0 ms\n",
      "[extractors.py:527 - INFO] \t\t- total delays = 0.30000000000000004 ms (0.1 encoder + 0.2 extractor delay)\n",
      "[extractors.py:528 - INFO] \t\t- NEST device id(s): [486]\n",
      "[extractors.py:494 - INFO] \t- State [extractor_rate100_spikes_E] from populations E [spikes]\n",
      "[extractors.py:306 - INFO] \t  - Extractor (rate sampling)\n",
      "[extractors.py:307 - INFO] \t\t- offset = 10.299999999999999 ms (stimulus onset + total delay + sim_res step)\n",
      "[extractors.py:308 - INFO] \t\t- interval = 10.0 ms\n",
      "[extractors.py:527 - INFO] \t\t- total delays = 0.30000000000000004 ms (0.1 encoder + 0.2 extractor delay)\n",
      "[extractors.py:528 - INFO] \t\t- NEST device id(s): [567]\n",
      "[extractors.py:494 - INFO] \t- State [extractor_rate1000_spikes_E] from populations E [spikes]\n",
      "[extractors.py:306 - INFO] \t  - Extractor (rate sampling)\n",
      "[extractors.py:307 - INFO] \t\t- offset = 1.3 ms (stimulus onset + total delay + sim_res step)\n",
      "[extractors.py:308 - INFO] \t\t- interval = 1.0 ms\n",
      "[extractors.py:527 - INFO] \t\t- total delays = 0.30000000000000004 ms (0.1 encoder + 0.2 extractor delay)\n",
      "[extractors.py:528 - INFO] \t\t- NEST device id(s): [648]\n",
      "[extractors.py:494 - INFO] \t- State [extractor_rate10000_spikes_E] from populations E [spikes]\n",
      "[extractors.py:306 - INFO] \t  - Extractor (rate sampling)\n",
      "[extractors.py:307 - INFO] \t\t- offset = 0.4 ms (stimulus onset + total delay + sim_res step)\n",
      "[extractors.py:308 - INFO] \t\t- interval = 0.1 ms\n",
      "[extractors.py:527 - INFO] \t\t- total delays = 0.30000000000000004 ms (0.1 encoder + 0.2 extractor delay)\n",
      "[extractors.py:528 - INFO] \t\t- NEST device id(s): [729]\n",
      "[extractors.py:494 - INFO] \t- State [extractor_rate10000_Vm_E] from populations E [V_m]\n",
      "[extractors.py:306 - INFO] \t  - Extractor (rate sampling)\n",
      "[extractors.py:307 - INFO] \t\t- offset = 0.30000000000000004 ms (stimulus onset + total delay + sim_res step)\n",
      "[extractors.py:308 - INFO] \t\t- interval = 0.1 ms\n",
      "[extractors.py:527 - INFO] \t\t- total delays = 0.2 ms (0.1 encoder + 0.1 extractor delay)\n",
      "[extractors.py:528 - INFO] \t\t- NEST device id(s): [730]\n"
     ]
    }
   ],
   "source": [
    "snn.connect_state_extractors(extractor_parameters, encoder=gen, input_mapper=input_to_snn_connections,\n",
    "                             stim_duration=signal_pars['duration'], stim_isi=stim_isi, to_memory=True)"
   ]
  },
  {
   "cell_type": "markdown",
   "metadata": {},
   "source": [
    "### 11.1.4. Simulate and plot"
   ]
  },
  {
   "cell_type": "markdown",
   "metadata": {},
   "source": [
    "Simulate and plot. We need to include the total delay (encoding, decoding) into simulation time for correct extraction.\n",
    "Additionally, we need to simulate one resolution step as the multimeter's last sample is at `total_simulation_time - simulation_resolution`."
   ]
  },
  {
   "cell_type": "code",
   "execution_count": 17,
   "metadata": {
    "pycharm": {
     "is_executing": false,
     "name": "#%%\n"
    }
   },
   "outputs": [],
   "source": [
    "total_delay = input_to_snn_connections.total_delay + snn.state_extractor.max_extractor_delay\n",
    "snn.simulate(stim_seq.t_stop + total_delay + resolution)"
   ]
  },
  {
   "cell_type": "markdown",
   "metadata": {},
   "source": [
    "Extract activity to be decoded and create state matrices. Print extraction report."
   ]
  },
  {
   "cell_type": "code",
   "execution_count": 18,
   "metadata": {
    "pycharm": {
     "is_executing": false,
     "name": "#%%\n"
    }
   },
   "outputs": [
    {
     "name": "stderr",
     "output_type": "stream",
     "text": [
      "[extractors.py:803 - INFO] Extracting and storing recorded activity from state extractor my_label_tau20_EI\n",
      "[extractors.py:835 - INFO]   - Reading extractor 404 [spikes] with rate sampling at \n",
      "[extractors.py:582 - INFO]   - Flushing devices of state extractor my_label_tau20_EI [404] from populations spikes\n",
      "[extractors.py:803 - INFO] Extracting and storing recorded activity from state extractor extractor_fixed_Vm_I\n",
      "[extractors.py:840 - INFO]   - Reading extractor 405 [V_m] at sampling offset\n",
      "[extractors.py:582 - INFO]   - Flushing devices of state extractor extractor_fixed_Vm_I [405] from populations V_m\n",
      "[extractors.py:803 - INFO] Extracting and storing recorded activity from state extractor extractor_isi_sampling\n",
      "[extractors.py:835 - INFO]   - Reading extractor 486 [spikes] with rate sampling at \n",
      "[extractors.py:582 - INFO]   - Flushing devices of state extractor extractor_isi_sampling [486] from populations spikes\n",
      "[extractors.py:803 - INFO] Extracting and storing recorded activity from state extractor extractor_rate100_spikes_E\n",
      "[extractors.py:835 - INFO]   - Reading extractor 567 [spikes] with rate sampling at \n",
      "[extractors.py:582 - INFO]   - Flushing devices of state extractor extractor_rate100_spikes_E [567] from populations spikes\n",
      "[extractors.py:803 - INFO] Extracting and storing recorded activity from state extractor extractor_rate1000_spikes_E\n",
      "[extractors.py:835 - INFO]   - Reading extractor 648 [spikes] with rate sampling at \n",
      "[extractors.py:582 - INFO]   - Flushing devices of state extractor extractor_rate1000_spikes_E [648] from populations spikes\n",
      "[extractors.py:803 - INFO] Extracting and storing recorded activity from state extractor extractor_rate10000_spikes_E\n",
      "[extractors.py:835 - INFO]   - Reading extractor 729 [spikes] with rate sampling at \n",
      "[extractors.py:582 - INFO]   - Flushing devices of state extractor extractor_rate10000_spikes_E [729] from populations spikes\n",
      "[extractors.py:803 - INFO] Extracting and storing recorded activity from state extractor extractor_rate10000_Vm_E\n",
      "[extractors.py:835 - INFO]   - Reading extractor 730 [V_m] with rate sampling at \n",
      "[extractors.py:582 - INFO]   - Flushing devices of state extractor extractor_rate10000_Vm_E [730] from populations V_m\n",
      "[__init__.py:951 - INFO] \n",
      "Extracting and storing recorded activity from devices:\n",
      "[__init__.py:969 - INFO] - Population E\n",
      "[__init__.py:969 - INFO] - Population I\n"
     ]
    }
   ],
   "source": [
    "snn.state_extractor.extract_global_states(stim_info)\n",
    "snn.extract_population_activity()  # this is only needed to plot the spikes"
   ]
  },
  {
   "cell_type": "code",
   "execution_count": 19,
   "metadata": {
    "pycharm": {
     "is_executing": false,
     "name": "#%%\n"
    },
    "scrolled": true
   },
   "outputs": [
    {
     "name": "stderr",
     "output_type": "stream",
     "text": [
      "[extractors.py:903 - INFO] \n",
      "[extractors.py:904 - INFO] ==========================\n",
      "[extractors.py:905 - INFO] SNN StateExtractor summary\n",
      "[extractors.py:907 - INFO] ---------------\n",
      "[extractors.py:909 - INFO] State extractor [my_label_tau20_EI] from population(s) EI with gid(s) [404]\n",
      "[extractors.py:914 - INFO]   - gathered 10 samples via rate-based sampling from spikes, extractor delay 0.2 ms\n",
      "[extractors.py:918 - INFO]     - samples averaged across stimulus duration only, not ISI\n",
      "[extractors.py:919 - INFO]     - note: only the last sampled timepoint from the averaged window is shown\n",
      "[extractors.py:920 - INFO]     - network time (incl. encoder delay):\n",
      "[extractors.py:921 - INFO]       [50.1, 110.1, 170.10000000000002] ... [590.1]\n",
      "[extractors.py:922 - INFO]     - NEST kernel time (incl. all delays):\n",
      "[extractors.py:924 - INFO]       [ 50.3 110.3 170.3] ... [590.3000000000001]\n",
      "[extractors.py:907 - INFO] ---------------\n",
      "[extractors.py:909 - INFO] State extractor [extractor_fixed_Vm_I] from population(s) I with gid(s) [405]\n",
      "[extractors.py:929 - INFO]   - gathered 10 samples @offset, sampling from V_m, extractor delay 0.1 ms\n",
      "[extractors.py:931 - INFO]     - network time (incl. encoder delay):\n",
      "[extractors.py:932 - INFO]       [ 50.1 110.1 170.1] ... [590.1]\n",
      "[extractors.py:933 - INFO]     - NEST kernel time (incl. all delays):\n",
      "[extractors.py:935 - INFO]       [ 50.2 110.2 170.2] ... [590.2]\n",
      "[extractors.py:907 - INFO] ---------------\n",
      "[extractors.py:909 - INFO] State extractor [extractor_isi_sampling] from population(s) E with gid(s) [486]\n",
      "[extractors.py:914 - INFO]   - gathered 60 samples via rate-based sampling from spikes, extractor delay 0.2 ms\n",
      "[extractors.py:920 - INFO]     - network time (incl. encoder delay):\n",
      "[extractors.py:921 - INFO]       [10.1 20.1 30.1] ... [600.1]\n",
      "[extractors.py:922 - INFO]     - NEST kernel time (incl. all delays):\n",
      "[extractors.py:924 - INFO]       [10.3 20.3 30.3] ... [600.3000000000001]\n",
      "[extractors.py:907 - INFO] ---------------\n",
      "[extractors.py:909 - INFO] State extractor [extractor_rate100_spikes_E] from population(s) E with gid(s) [567]\n",
      "[extractors.py:914 - INFO]   - gathered 50 samples via rate-based sampling from spikes, extractor delay 0.2 ms\n",
      "[extractors.py:920 - INFO]     - network time (incl. encoder delay):\n",
      "[extractors.py:921 - INFO]       [10.100000000000001, 20.1, 30.1] ... [590.1]\n",
      "[extractors.py:922 - INFO]     - NEST kernel time (incl. all delays):\n",
      "[extractors.py:924 - INFO]       [10.3 20.3 30.3] ... [590.3000000000001]\n",
      "[extractors.py:907 - INFO] ---------------\n",
      "[extractors.py:909 - INFO] State extractor [extractor_rate1000_spikes_E] from population(s) E with gid(s) [648]\n",
      "[extractors.py:914 - INFO]   - gathered 500 samples via rate-based sampling from spikes, extractor delay 0.2 ms\n",
      "[extractors.py:920 - INFO]     - network time (incl. encoder delay):\n",
      "[extractors.py:921 - INFO]       [1.1, 2.1, 3.1] ... [590.1]\n",
      "[extractors.py:922 - INFO]     - NEST kernel time (incl. all delays):\n",
      "[extractors.py:924 - INFO]       [1.3 2.3 3.3] ... [590.3000000000001]\n",
      "[extractors.py:907 - INFO] ---------------\n",
      "[extractors.py:909 - INFO] State extractor [extractor_rate10000_spikes_E] from population(s) E with gid(s) [729]\n",
      "[extractors.py:914 - INFO]   - gathered 5000 samples via rate-based sampling from spikes, extractor delay 0.2 ms\n",
      "[extractors.py:920 - INFO]     - network time (incl. encoder delay):\n",
      "[extractors.py:921 - INFO]       [0.2, 0.3, 0.39999999999999997] ... [590.1]\n",
      "[extractors.py:922 - INFO]     - NEST kernel time (incl. all delays):\n",
      "[extractors.py:924 - INFO]       [0.4 0.5 0.6] ... [590.3000000000001]\n",
      "[extractors.py:907 - INFO] ---------------\n",
      "[extractors.py:909 - INFO] State extractor [extractor_rate10000_Vm_E] from population(s) E with gid(s) [730]\n",
      "[extractors.py:914 - INFO]   - gathered 5000 samples via rate-based sampling from V_m, extractor delay 0.1 ms\n",
      "[extractors.py:920 - INFO]     - network time (incl. encoder delay):\n",
      "[extractors.py:921 - INFO]       [0.19999999999999998, 0.30000000000000004, 0.4] ... [590.1]\n",
      "[extractors.py:922 - INFO]     - NEST kernel time (incl. all delays):\n",
      "[extractors.py:924 - INFO]       [0.3 0.4 0.5] ... [590.2]\n",
      "[extractors.py:936 - INFO] \n"
     ]
    }
   ],
   "source": [
    "snn.state_extractor.report()"
   ]
  },
  {
   "cell_type": "markdown",
   "metadata": {},
   "source": [
    "Plot some spiking activity and extracted states"
   ]
  },
  {
   "cell_type": "code",
   "execution_count": 20,
   "metadata": {
    "pycharm": {
     "name": "#%%\n"
    }
   },
   "outputs": [
    {
     "name": "stderr",
     "output_type": "stream",
     "text": [
      "[extractors.py:952 - INFO] ===========================\n",
      "[extractors.py:953 - INFO] Example extractor activity: [extractor_rate100_spikes_E]\n"
     ]
    },
    {
     "data": {
      "image/png": "[encoded data removed]",
      "text/plain": [
       "<Figure size 1440x288 with 1 Axes>"
      ]
     },
     "metadata": {
      "needs_background": "light"
     },
     "output_type": "display_data"
    }
   ],
   "source": [
    "# just re-run the cells below by changing the id between (1-100)\n",
    "neuron_id_to_plot = 12\n",
    "snn.state_extractor.plot_samples('extractor_rate100_spikes_E', neuron_id=neuron_id_to_plot, start_t=10., stop_t=21.)\n"
   ]
  },
  {
   "cell_type": "code",
   "execution_count": 21,
   "metadata": {
    "pycharm": {
     "name": "#%%\n"
    }
   },
   "outputs": [
    {
     "name": "stderr",
     "output_type": "stream",
     "text": [
      "[extractors.py:952 - INFO] ===========================\n",
      "[extractors.py:953 - INFO] Example extractor activity: [extractor_rate1000_spikes_E]\n"
     ]
    },
    {
     "data": {
      "image/png": "[encoded data removed]",
      "text/plain": [
       "<Figure size 1440x288 with 1 Axes>"
      ]
     },
     "metadata": {
      "needs_background": "light"
     },
     "output_type": "display_data"
    }
   ],
   "source": [
    "snn.state_extractor.plot_samples('extractor_rate1000_spikes_E', neuron_id=neuron_id_to_plot, marker='-',\n",
    "                                 start_t=10., stop_t=21.)"
   ]
  },
  {
   "cell_type": "code",
   "execution_count": 40,
   "metadata": {
    "pycharm": {
     "name": "#%%\n"
    },
    "scrolled": true
   },
   "outputs": [
    {
     "name": "stderr",
     "output_type": "stream",
     "text": [
      "[extractors.py:952 - INFO] ===========================\n",
      "[extractors.py:953 - INFO] Example extractor activity: [extractor_rate10000_spikes_E]\n"
     ]
    },
    {
     "data": {
      "image/png": "[encoded data removed]",
      "text/plain": [
       "<Figure size 1440x288 with 1 Axes>"
      ]
     },
     "metadata": {
      "needs_background": "light"
     },
     "output_type": "display_data"
    }
   ],
   "source": [
    "snn.state_extractor.plot_samples('extractor_rate10000_spikes_E', neuron_id=neuron_id_to_plot, marker='o-',\n",
    "                                start_t=10., stop_t=21.)"
   ]
  },
  {
   "cell_type": "markdown",
   "metadata": {},
   "source": [
    "### 11.1.5. Consistency checks\n",
    "Ensure the sampled values are consistent across the different extractors\n",
    "the sampling rate difference is a factor of 10. Pick a neuron and a sample for which to compare the values."
   ]
  },
  {
   "cell_type": "code",
   "execution_count": 23,
   "metadata": {},
   "outputs": [],
   "source": [
    "compare_neuron = 5\n",
    "compare_sample = 0  # pick a sample index for comparison in the extractor with lower resolution\n",
    "\n",
    "activity_lower_res = snn.state_extractor.pop_extractors['extractor_rate100_spikes_E'].activity[0][compare_neuron]\n",
    "activity_higher_res = snn.state_extractor.pop_extractors['extractor_rate1000_spikes_E'].activity[0][compare_neuron]\n",
    "assert np.isclose(activity_lower_res[compare_sample],\n",
    "                  activity_higher_res[(compare_sample + 1) * 10 - 1]), \"Error\"\n",
    "\n",
    "activity_lower_res = snn.state_extractor.pop_extractors['extractor_rate1000_spikes_E'].activity[0][compare_neuron]\n",
    "activity_higher_res = snn.state_extractor.pop_extractors['extractor_rate10000_spikes_E'].activity[0][compare_neuron]\n",
    "assert np.isclose(activity_lower_res[compare_sample],\n",
    "                  activity_higher_res[(compare_sample + 1) * 10 - 1]), \"Error\""
   ]
  },
  {
   "cell_type": "markdown",
   "metadata": {},
   "source": [
    "### 11.1.6. Resulting state matrices\n",
    "\n",
    "After extracting the network activity and global state, these must be compiled into state matrices that can be later used for learning and performing a task. `compile_state_matrices()` is a function of the network's state extractor object:"
   ]
  },
  {
   "cell_type": "code",
   "execution_count": 24,
   "metadata": {},
   "outputs": [
    {
     "name": "stderr",
     "output_type": "stream",
     "text": [
      "[extractors.py:882 - INFO] Compiling state matrices...\n"
     ]
    }
   ],
   "source": [
    "snn.state_extractor.compile_state_matrices('state_sampling_example_label')"
   ]
  },
  {
   "cell_type": "markdown",
   "metadata": {},
   "source": [
    "The above function creates a `StateMatrix` object, standardized across all network models, for each state extractor label. The objects are stored within the corresponding `Population` objects, which can be accessed directly or through an interface function:"
   ]
  },
  {
   "cell_type": "code",
   "execution_count": 25,
   "metadata": {},
   "outputs": [],
   "source": [
    "state_matrix = snn.find_population('E').state_matrices['extractor_isi_sampling']\n",
    "\n",
    "# or, better (it does the same under the hood, with some error checks)\n",
    "state_matrix = snn.find_state_matrix('E', 'extractor_isi_sampling')"
   ]
  },
  {
   "cell_type": "markdown",
   "metadata": {},
   "source": [
    "The actual matrices can be accessed as follows (depending on the sampling method):"
   ]
  },
  {
   "cell_type": "code",
   "execution_count": 26,
   "metadata": {},
   "outputs": [
    {
     "data": {
      "text/plain": [
       "(80, 60)"
      ]
     },
     "execution_count": 26,
     "metadata": {},
     "output_type": "execute_result"
    }
   ],
   "source": [
    "# each matrix contains 10 samples, and is of size N x Samples\n",
    "state_matrix.matrix.shape\n"
   ]
  },
  {
   "cell_type": "markdown",
   "metadata": {},
   "source": [
    "----"
   ]
  },
  {
   "cell_type": "markdown",
   "metadata": {},
   "source": [
    "## 11.2. Variable signal durations and ISIs\n",
    "\n",
    "This condition introduces additional complications to the sampling process. To exemplify, we will start by re-defining the input signal properties and demonstrate different sampling strategies we can adopt in this scenario."
   ]
  },
  {
   "cell_type": "code",
   "execution_count": 27,
   "metadata": {},
   "outputs": [],
   "source": [
    "example_defaults.reset_kernel(resolution=resolution)"
   ]
  },
  {
   "cell_type": "markdown",
   "metadata": {},
   "source": [
    "* Define a (uniform) distribution for the inter-stimulus interval and draw continuous stimulus sequence:"
   ]
  },
  {
   "cell_type": "code",
   "execution_count": 28,
   "metadata": {
    "pycharm": {
     "is_executing": false,
     "name": "#%%\n"
    }
   },
   "outputs": [
    {
     "name": "stderr",
     "output_type": "stream",
     "text": [
      "[embeddings.py:655 - INFO] Generating stimulus sequence: 10 symbols\n",
      "[embeddings.py:605 - INFO] Concatenating stimulus sequence\n"
     ]
    }
   ],
   "source": [
    "stim_interval = {'dist': np.random.uniform, 'params': {'low':1.0, 'high':10.0}}\n",
    "stim_onset_time = 0.1\n",
    "\n",
    "stim_seq, stim_info = signal.draw_stimulus_sequence(sequence, onset_time=stim_onset_time, \n",
    "                                                    continuous=True, intervals=stim_interval)"
   ]
  },
  {
   "cell_type": "markdown",
   "metadata": {},
   "source": [
    "* Create encoders"
   ]
  },
  {
   "cell_type": "code",
   "execution_count": 29,
   "metadata": {},
   "outputs": [
    {
     "name": "stderr",
     "output_type": "stream",
     "text": [
      "[__init__.py:35 - INFO] Creating Generators: \n",
      "[__init__.py:38 - INFO] - poisson-input [(1,)-(100,)]\n"
     ]
    }
   ],
   "source": [
    "# inhomogeneous Poisson generator\n",
    "gen = NESTEncoder('inhomogeneous_poisson_generator', stim_seq=stim_seq, label='poisson-input',\n",
    "                              dim=emb.embedding_dimensions)"
   ]
  },
  {
   "cell_type": "markdown",
   "metadata": {},
   "source": [
    "* Re-create target network"
   ]
  },
  {
   "cell_type": "code",
   "execution_count": 30,
   "metadata": {},
   "outputs": [
    {
     "name": "stderr",
     "output_type": "stream",
     "text": [
      "[__init__.py:47 - INFO] Initializing Brunel BRN architecture (NEST-simulated)\n",
      "[__init__.py:97 - INFO] Creating populations:\n",
      "[__init__.py:121 - INFO] - Population E, with ids [101-180]\n",
      "[__init__.py:121 - INFO] - Population I, with ids [181-200]\n",
      "[__init__.py:488 - INFO] Connecting Devices: \n",
      "[__init__.py:129 - INFO]   - Attaching spike_detector with gid [(201,)] to population E\n",
      "[__init__.py:509 - INFO] - Connecting spike_detector to E, with label E_spike_detector and id (201,)\n",
      "[__init__.py:129 - INFO]   - Attaching spike_detector with gid [(202,)] to population I\n",
      "[__init__.py:509 - INFO] - Connecting spike_detector to I, with label I_spike_detector and id (202,)\n",
      "[__init__.py:205 - INFO] Randomizing initial values:\n",
      "[__init__.py:95 - INFO] - Randomizing V_m state in Population E\n",
      "[__init__.py:95 - INFO] - Randomizing V_m state in Population I\n",
      "[__init__.py:1008 - INFO] ========================================================\n",
      "[__init__.py:1009 - INFO]  Brunel BRN architecture (NEST-simulated):\n",
      "[__init__.py:1010 - INFO] --------------------------------------------------------\n",
      "[__init__.py:1011 - INFO] - 2 Populations: ['E', 'I']\n",
      "[__init__.py:1012 - INFO] - Size: 100 [80, 20]\n",
      "[__init__.py:1014 - INFO] - Neuron models: ['iaf_psc_delta', 'iaf_psc_delta']\n",
      "[__init__.py:1015 - INFO] - [1, 1] Devices connected: [['E_spike_detector'], ['I_spike_detector']]\n",
      "[__init__.py:1017 - INFO]     E: ['E_spike_detector'], ['spike_detector']\n",
      "[__init__.py:1017 - INFO]     I: ['I_spike_detector'], ['spike_detector']\n",
      "[connectivity.py:187 - INFO] Connecting networks: Brunel BRN -> Brunel BRN\n",
      "[connectivity.py:196 - INFO]     - ('E', 'E') [static_synapse]\n",
      "[connectivity.py:196 - INFO]     - ('E', 'I') [static_synapse]\n",
      "[connectivity.py:196 - INFO]     - ('I', 'E') [static_synapse]\n",
      "[connectivity.py:196 - INFO]     - ('I', 'I') [static_synapse]\n"
     ]
    },
    {
     "name": "stdout",
     "output_type": "stream",
     "text": [
      "\n",
      "Loading default neuron parameter - iaf_psc_delta, fixed voltage threshold, fixed absolute refractory time\n"
     ]
    }
   ],
   "source": [
    "# target network\n",
    "snn_variable, snn_recurrent_connections = example_defaults.default_network(record_spikes=True)"
   ]
  },
  {
   "cell_type": "markdown",
   "metadata": {},
   "source": [
    "* Connect encoders"
   ]
  },
  {
   "cell_type": "code",
   "execution_count": 31,
   "metadata": {
    "pycharm": {
     "is_executing": false,
     "name": "#%%\n"
    }
   },
   "outputs": [
    {
     "name": "stderr",
     "output_type": "stream",
     "text": [
      "[__init__.py:116 - INFO] Connecting input generators: poisson-input -> Brunel BRN\n",
      "[__init__.py:127 - INFO]     - ('E', 'poisson-input') [static_synapse]\n",
      "[__init__.py:127 - INFO]     - ('I', 'poisson-input') [static_synapse]\n"
     ]
    }
   ],
   "source": [
    "# input synapses\n",
    "input_syn = {'model': 'static_synapse', 'delay': 0.1, 'weight': 3.}\n",
    "input_conn = {'rule': 'all_to_all'}\n",
    "\n",
    "input_synapses = {\n",
    "    'connect_populations': [('E', gen.name), ('I', gen.name),],\n",
    "    'weight_matrix': [None, None],\n",
    "    'conn_specs': [input_conn, input_conn],\n",
    "    'syn_specs': [input_syn, input_syn]\n",
    "}\n",
    "input_to_snn_connections = InputMapper(source=gen, target=snn_variable, parameters=input_synapses)"
   ]
  },
  {
   "cell_type": "markdown",
   "metadata": {},
   "source": [
    "### 11.2.1. Sampling at a fixed rate\n",
    " \n",
    "Sample the network activity at regular intervals, creating a single state matrix. If `average_states=True`, the samples are averaged within each stimulus+isi window. For variable stimulus / isi lengths, ...?    "
   ]
  },
  {
   "cell_type": "code",
   "execution_count": 32,
   "metadata": {
    "pycharm": {
     "is_executing": false,
     "name": "#%%\n"
    }
   },
   "outputs": [],
   "source": [
    "extractor_parameters = {}\n",
    "\n",
    "extractor_parameters.update({\n",
    "    # state extractor label, must be unique\n",
    "    'ex_E_rate10kHz_avg': {\n",
    "        'population': 'E',   # if list, extract from merged populations\n",
    "        'variable': 'spikes',       # state variable\n",
    "        'filter_time': 15.,         # time constant to filter the spiking activity with \n",
    "        'average_states': True,     # average activity within one stimulus. Sampling rate must be \n",
    "                                    # compatible with the stimulus length + isi. State matrix will be N x T\n",
    "        'sampling_rate': 10000.,    # Hz - one state matrix containing all the sampled time points\n",
    "        'sample_isi': False         # if False, only sample during stimuli and discard samples from the isi\n",
    "    },\n",
    "})"
   ]
  },
  {
   "cell_type": "markdown",
   "metadata": {},
   "source": [
    "* Whether to sample during ISI or not (to compare plots later)"
   ]
  },
  {
   "cell_type": "code",
   "execution_count": 33,
   "metadata": {
    "pycharm": {
     "name": "#%%\n"
    }
   },
   "outputs": [],
   "source": [
    "extractor_parameters.update({\n",
    "    'ex_E_isi_sampling': {\n",
    "        'population': 'E',\n",
    "        'variable': 'spikes',\n",
    "        'filter_time': 15.,\n",
    "        'sampling_rate': 10000.,\n",
    "        'sample_isi': True\n",
    "    },\n",
    "    'ex_E_no_isi': {\n",
    "        'population': 'E',\n",
    "        'variable': 'spikes',\n",
    "        'filter_time': 15.,\n",
    "        'sampling_rate': 10000.,\n",
    "        'sample_isi': False\n",
    "    }\n",
    "})"
   ]
  },
  {
   "cell_type": "markdown",
   "metadata": {},
   "source": [
    "* For illustration purposes, sample membrane potential continuously"
   ]
  },
  {
   "cell_type": "code",
   "execution_count": 34,
   "metadata": {},
   "outputs": [],
   "source": [
    "extractor_parameters.update({\n",
    "    'ex_I_Vm_isi_sampling': {\n",
    "        'population': 'I',\n",
    "        'variable': 'V_m',\n",
    "        'sampling_rate': 10000.,\n",
    "        'sample_isi': True\n",
    "    }\n",
    "})"
   ]
  },
  {
   "cell_type": "markdown",
   "metadata": {},
   "source": [
    "The following example illustrates an **erroneous configuration**. If the resolution of the input signal (stimulus\n",
    "duration and ISI length) is 0.1 ms, the sampling rate must be at least 10kHz ~ 0.1 ms or higher. "
   ]
  },
  {
   "cell_type": "code",
   "execution_count": 35,
   "metadata": {},
   "outputs": [],
   "source": [
    "wrong_config = { \n",
    "    'resolution_too_low': {\n",
    "        'population': 'E',   \n",
    "        'variable': 'spikes',       \n",
    "        'filter_time': 20.,         \n",
    "        'sampling_rate': 100.,      # this samples the timeline at 10 ms intervals, which is not enough\n",
    "        'sample_isi': True          # sample during stimuli and discard samples from the isi\n",
    "    },\n",
    "}"
   ]
  },
  {
   "cell_type": "markdown",
   "metadata": {
    "pycharm": {
     "name": "#%% md\n"
    }
   },
   "source": [
    "### 11.2.2. Sampling at fixed timepoints\n",
    "\n",
    "Sample at fixed offsets relative to stimulus onset. This creates an individual state matrix for each specified sampling time. `sample_isi` and `average_states` don't have an effect here, whether there are samples collected during isi depends on the specified `sampling_times`. \n",
    " \n",
    "To sample at stimulus offset, add `'stim_offset'` to the `'sampling_times'` parameter."
   ]
  },
  {
   "cell_type": "code",
   "execution_count": 36,
   "metadata": {
    "pycharm": {
     "is_executing": false,
     "name": "#%%\n"
    }
   },
   "outputs": [],
   "source": [
    "extractor_parameters.update({\n",
    "    'extractor_fixed_Vm_I': {\n",
    "        'population': 'I',\n",
    "        'variable': 'V_m',\n",
    "        'average_states': False,                    # can't be True for fixed sampling\n",
    "        'sampling_times': [1., 5., 'stim_offset']   # each offset creates a separate state matrix, \n",
    "                                                    # sample relative to stim. onset\n",
    "    }\n",
    "})"
   ]
  },
  {
   "cell_type": "markdown",
   "metadata": {},
   "source": [
    "### 11.2.3. Creating and connecting state extractors"
   ]
  },
  {
   "cell_type": "markdown",
   "metadata": {
    "pycharm": {
     "name": "#%% md\n"
    }
   },
   "source": [
    "For signals with variable duration/ISI the, the state extractors connection routine must be called \n",
    "with `variable_signal=True`:   "
   ]
  },
  {
   "cell_type": "code",
   "execution_count": 37,
   "metadata": {
    "pycharm": {
     "is_executing": false,
     "name": "#%%\n"
    }
   },
   "outputs": [
    {
     "name": "stderr",
     "output_type": "stream",
     "text": [
      "[extractors.py:487 - INFO] Connecting extractors (SpikingExtractor):\n",
      "[extractors.py:494 - INFO] \t- State [ex_E_rate10kHz_avg] from populations E [spikes]\n",
      "[extractors.py:306 - INFO] \t  - Extractor (variable rate sampling)\n",
      "[extractors.py:307 - INFO] \t\t- offset = 0.4 ms (stimulus onset + total delay + sim_res step)\n",
      "[extractors.py:308 - INFO] \t\t- interval = 0.1 ms\n",
      "[extractors.py:527 - INFO] \t\t- total delays = 0.30000000000000004 ms (0.1 encoder + 0.2 extractor delay)\n",
      "[extractors.py:528 - INFO] \t\t- NEST device id(s): [283]\n",
      "[extractors.py:494 - INFO] \t- State [ex_E_isi_sampling] from populations E [spikes]\n",
      "[extractors.py:306 - INFO] \t  - Extractor (variable rate sampling)\n",
      "[extractors.py:307 - INFO] \t\t- offset = 0.4 ms (stimulus onset + total delay + sim_res step)\n",
      "[extractors.py:308 - INFO] \t\t- interval = 0.1 ms\n",
      "[extractors.py:527 - INFO] \t\t- total delays = 0.30000000000000004 ms (0.1 encoder + 0.2 extractor delay)\n",
      "[extractors.py:528 - INFO] \t\t- NEST device id(s): [364]\n",
      "[extractors.py:494 - INFO] \t- State [ex_E_no_isi] from populations E [spikes]\n",
      "[extractors.py:306 - INFO] \t  - Extractor (variable rate sampling)\n",
      "[extractors.py:307 - INFO] \t\t- offset = 0.4 ms (stimulus onset + total delay + sim_res step)\n",
      "[extractors.py:308 - INFO] \t\t- interval = 0.1 ms\n",
      "[extractors.py:527 - INFO] \t\t- total delays = 0.30000000000000004 ms (0.1 encoder + 0.2 extractor delay)\n",
      "[extractors.py:528 - INFO] \t\t- NEST device id(s): [445]\n",
      "[extractors.py:494 - INFO] \t- State [ex_I_Vm_isi_sampling] from populations I [V_m]\n",
      "[extractors.py:306 - INFO] \t  - Extractor (variable rate sampling)\n",
      "[extractors.py:307 - INFO] \t\t- offset = 0.30000000000000004 ms (stimulus onset + total delay + sim_res step)\n",
      "[extractors.py:308 - INFO] \t\t- interval = 0.1 ms\n",
      "[extractors.py:527 - INFO] \t\t- total delays = 0.2 ms (0.1 encoder + 0.1 extractor delay)\n",
      "[extractors.py:528 - INFO] \t\t- NEST device id(s): [446]\n",
      "[extractors.py:494 - INFO] \t- State [extractor_fixed_Vm_I] from populations I [V_m]\n",
      "[extractors.py:306 - INFO] \t  - Extractor (variable fixed offset sampling)\n",
      "[extractors.py:307 - INFO] \t\t- offset = 0.30000000000000004 ms (stimulus onset + total delay + sim_res step)\n",
      "[extractors.py:308 - INFO] \t\t- interval = 0.1 ms\n",
      "[extractors.py:527 - INFO] \t\t- total delays = 0.2 ms (0.1 encoder + 0.1 extractor delay)\n",
      "[extractors.py:528 - INFO] \t\t- NEST device id(s): [447]\n"
     ]
    }
   ],
   "source": [
    "input_to_snn_connections.determine_total_delay()  # this should probably be called automatically somewhere\n",
    "snn_variable.connect_state_extractors(extractor_parameters, encoder=gen, input_mapper=input_to_snn_connections,\n",
    "                             variable_signal=True, to_memory=True)"
   ]
  },
  {
   "cell_type": "markdown",
   "metadata": {},
   "source": [
    "### 11.2.3. Simulate and plot"
   ]
  },
  {
   "cell_type": "code",
   "execution_count": 38,
   "metadata": {
    "pycharm": {
     "is_executing": false,
     "name": "#%%\n"
    }
   },
   "outputs": [],
   "source": [
    "total_delay = input_to_snn_connections.total_delay + snn.state_extractor.max_extractor_delay\n",
    "snn_variable.simulate(stim_seq.t_stop + total_delay + resolution)"
   ]
  },
  {
   "cell_type": "markdown",
   "metadata": {},
   "source": [
    "* Extract activity to be decoded and create state matrices. Print extraction report."
   ]
  },
  {
   "cell_type": "code",
   "execution_count": 39,
   "metadata": {
    "pycharm": {
     "is_executing": false,
     "name": "#%%\n"
    }
   },
   "outputs": [
    {
     "name": "stderr",
     "output_type": "stream",
     "text": [
      "[extractors.py:803 - INFO] Extracting and storing recorded activity from state extractor my_label_tau20_EI\n"
     ]
    },
    {
     "ename": "KeyError",
     "evalue": "'to_memory'",
     "output_type": "error",
     "traceback": [
      "\u001b[0;31m---------------------------------------------------------------------------\u001b[0m",
      "\u001b[0;31mKeyError\u001b[0m                                  Traceback (most recent call last)",
      "\u001b[0;32m<ipython-input-39-788ccd141361>\u001b[0m in \u001b[0;36m<module>\u001b[0;34m\u001b[0m\n\u001b[0;32m----> 1\u001b[0;31m \u001b[0msnn\u001b[0m\u001b[0;34m.\u001b[0m\u001b[0mstate_extractor\u001b[0m\u001b[0;34m.\u001b[0m\u001b[0mextract_global_states\u001b[0m\u001b[0;34m(\u001b[0m\u001b[0mstim_info\u001b[0m\u001b[0;34m)\u001b[0m\u001b[0;34m\u001b[0m\u001b[0;34m\u001b[0m\u001b[0m\n\u001b[0m\u001b[1;32m      2\u001b[0m \u001b[0msnn\u001b[0m\u001b[0;34m.\u001b[0m\u001b[0mextract_population_activity\u001b[0m\u001b[0;34m(\u001b[0m\u001b[0;34m)\u001b[0m  \u001b[0;31m# this is only needed to plot the spikes\u001b[0m\u001b[0;34m\u001b[0m\u001b[0;34m\u001b[0m\u001b[0m\n",
      "\u001b[0;32m~/code/projects/func-neurarch/decoders/extractors.py\u001b[0m in \u001b[0;36mextract_global_states\u001b[0;34m(self, stim_info, batch_end, carry_begin)\u001b[0m\n\u001b[1;32m    864\u001b[0m         \"\"\"\n\u001b[1;32m    865\u001b[0m         \u001b[0;32mfor\u001b[0m \u001b[0mlabel\u001b[0m\u001b[0;34m,\u001b[0m \u001b[0mextractor\u001b[0m \u001b[0;32min\u001b[0m \u001b[0mself\u001b[0m\u001b[0;34m.\u001b[0m\u001b[0mpop_extractors\u001b[0m\u001b[0;34m.\u001b[0m\u001b[0mitems\u001b[0m\u001b[0;34m(\u001b[0m\u001b[0;34m)\u001b[0m\u001b[0;34m:\u001b[0m\u001b[0;34m\u001b[0m\u001b[0;34m\u001b[0m\u001b[0m\n\u001b[0;32m--> 866\u001b[0;31m             \u001b[0mself\u001b[0m\u001b[0;34m.\u001b[0m\u001b[0mextract_activity\u001b[0m\u001b[0;34m(\u001b[0m\u001b[0mextractor\u001b[0m\u001b[0;34m,\u001b[0m \u001b[0mstim_info\u001b[0m\u001b[0;34m,\u001b[0m \u001b[0mbatch_end\u001b[0m\u001b[0;34m,\u001b[0m \u001b[0mcarry_begin\u001b[0m\u001b[0;34m)\u001b[0m\u001b[0;34m\u001b[0m\u001b[0;34m\u001b[0m\u001b[0m\n\u001b[0m\u001b[1;32m    867\u001b[0m \u001b[0;34m\u001b[0m\u001b[0m\n\u001b[1;32m    868\u001b[0m             \u001b[0;32mif\u001b[0m \u001b[0mbatch_end\u001b[0m\u001b[0;34m:\u001b[0m\u001b[0;34m\u001b[0m\u001b[0;34m\u001b[0m\u001b[0m\n",
      "\u001b[0;32m~/code/projects/func-neurarch/decoders/extractors.py\u001b[0m in \u001b[0;36mextract_activity\u001b[0;34m(self, extractor, stim_info, carry_end, carry_begin)\u001b[0m\n\u001b[1;32m    807\u001b[0m         \u001b[0mtime_shift\u001b[0m \u001b[0;34m=\u001b[0m \u001b[0mextractor\u001b[0m\u001b[0;34m.\u001b[0m\u001b[0mdelay\u001b[0m\u001b[0;34m\u001b[0m\u001b[0;34m\u001b[0m\u001b[0m\n\u001b[1;32m    808\u001b[0m \u001b[0;34m\u001b[0m\u001b[0m\n\u001b[0;32m--> 809\u001b[0;31m         \u001b[0;32mif\u001b[0m \u001b[0;32mnot\u001b[0m \u001b[0mnest\u001b[0m\u001b[0;34m.\u001b[0m\u001b[0mGetStatus\u001b[0m\u001b[0;34m(\u001b[0m\u001b[0mdevices\u001b[0m\u001b[0;34m)\u001b[0m\u001b[0;34m[\u001b[0m\u001b[0;36m0\u001b[0m\u001b[0;34m]\u001b[0m\u001b[0;34m[\u001b[0m\u001b[0;34m'to_memory'\u001b[0m\u001b[0;34m]\u001b[0m\u001b[0;34m:\u001b[0m\u001b[0;34m\u001b[0m\u001b[0;34m\u001b[0m\u001b[0m\n\u001b[0m\u001b[1;32m    810\u001b[0m             \u001b[0;32mraise\u001b[0m \u001b[0mNotImplementedError\u001b[0m\u001b[0;34m(\u001b[0m\u001b[0;34m\"Extract to file not yet supported\"\u001b[0m\u001b[0;34m)\u001b[0m\u001b[0;34m\u001b[0m\u001b[0;34m\u001b[0m\u001b[0m\n\u001b[1;32m    811\u001b[0m \u001b[0;34m\u001b[0m\u001b[0m\n",
      "\u001b[0;31mKeyError\u001b[0m: 'to_memory'"
     ]
    }
   ],
   "source": [
    "snn.state_extractor.extract_global_states(stim_info)\n",
    "snn.extract_population_activity()  # this is only needed to plot the spikes"
   ]
  },
  {
   "cell_type": "code",
   "execution_count": null,
   "metadata": {
    "pycharm": {
     "is_executing": false,
     "name": "#%%\n"
    },
    "scrolled": true
   },
   "outputs": [],
   "source": [
    "snn_variable.state_extractor.report()    "
   ]
  },
  {
   "cell_type": "markdown",
   "metadata": {},
   "source": [
    "Plot some spiking activity and extracted states"
   ]
  },
  {
   "cell_type": "code",
   "execution_count": null,
   "metadata": {
    "pycharm": {
     "name": "#%%\n"
    }
   },
   "outputs": [],
   "source": [
    "# just re-run the cells below by changing the id between (101-180)\n",
    "neuron = 125\n",
    "# snn.state_extractor.plot_samples('ex_E_isi_sampling', n_samples=100, neuron_id=neuron_id_to_plot, stim_info=stim_info)\n",
    "snn_variable.state_extractor.plot_samples('ex_E_isi_sampling', neuron_id=neuron, stim_info=stim_info, \n",
    "                                 start_t=40., stop_t=50., marker='-')\n",
    "snn_variable.state_extractor.plot_samples('ex_E_no_isi', neuron_id=neuron, stim_info=stim_info, \n",
    "                                 start_t=40., stop_t=50.)\n"
   ]
  },
  {
   "cell_type": "markdown",
   "metadata": {},
   "source": [
    "Plot the continuously sampled membrane potential, including samples recorded during ISI. Note that the recordings begin at `stim_onset + encoding_delay` (green line, network time) and not at `0.`"
   ]
  },
  {
   "cell_type": "code",
   "execution_count": null,
   "metadata": {},
   "outputs": [],
   "source": [
    "neuron = 185\n",
    "snn.state_extractor.plot_samples('ex_I_Vm_isi_sampling', neuron_id=neuron, \n",
    "                                 stim_info=stim_info, start_t=0., stop_t=10., marker='-')\n"
   ]
  },
  {
   "cell_type": "markdown",
   "metadata": {},
   "source": [
    "### 11.2.6. Resulting state matrices\n",
    "\n",
    "After extracting the network activity and global state, these must be compiled into state matrices that can be later used for learning and performing a task. `compile_state_matrices()` is a function of the network's state extractor object:"
   ]
  },
  {
   "cell_type": "code",
   "execution_count": null,
   "metadata": {
    "pycharm": {
     "name": "#%%\n"
    }
   },
   "outputs": [],
   "source": [
    "snn.state_extractor.compile_state_matrices('variable_delay_sm')"
   ]
  }
 ],
 "metadata": {
  "kernelspec": {
   "display_name": "Python 3",
   "language": "python",
   "name": "python3"
  },
  "language_info": {
   "codemirror_mode": {
    "name": "ipython",
    "version": 3
   },
   "file_extension": ".py",
   "mimetype": "text/x-python",
   "name": "python",
   "nbconvert_exporter": "python",
   "pygments_lexer": "ipython3",
   "version": "3.8.5"
  },
  "widgets": {
   "application/vnd.jupyter.widget-state+json": {
    "state": {},
    "version_major": 2,
    "version_minor": 0
   }
  }
 },
 "nbformat": 4,
 "nbformat_minor": 4
}
