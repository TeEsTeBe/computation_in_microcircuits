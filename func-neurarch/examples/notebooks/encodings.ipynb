{
 "cells": [
  {
   "cell_type": "code",
   "execution_count": null,
   "metadata": {},
   "outputs": [],
   "source": []
  },
  {
   "cell_type": "code",
   "execution_count": null,
   "metadata": {},
   "outputs": [],
   "source": [
    "import numpy as np\n",
    "from examples import example_defaults\n",
    "from fna.tasks.symbolic.embeddings import VectorEmbeddings, DynamicEmbeddings\n",
    "\n",
    "from fna.tasks.symbolic.sequences import SymbolicSequencer\n",
    "from fna.tasks.symbolic import NonAdjacentDependencies, ArtificialGrammar, NaturalLanguage"
   ]
  },
  {
   "cell_type": "markdown",
   "metadata": {},
   "source": [
    "------\n",
    "Preliminary steps:\n",
    "* Create a few different sequencers to use as an example. "
   ]
  },
  {
   "cell_type": "code",
   "execution_count": 2,
   "metadata": {},
   "outputs": [],
   "source": [
    "n_strings = 10\n",
    "seq_length = 10"
   ]
  },
  {
   "cell_type": "code",
   "execution_count": 3,
   "metadata": {},
   "outputs": [
    {
     "name": "stderr",
     "output_type": "stream",
     "text": [
      "[sequences.py:91 - INFO] Generating symbolic sequencer\n",
      "[sequences.py:144 - INFO] Generating a random sequence of length 10, from a set of 10 symbols\n",
      "[sequences.py:91 - INFO] Generating symbolic sequencer\n",
      "[non_adjacent_dep.py:73 - INFO] Generating 10 strings, according to nAD rules...\n"
     ]
    }
   ],
   "source": [
    "random_sequencer = SymbolicSequencer(label='random', set_size=10)\n",
    "random_sequence = random_sequencer.generate_random_sequence(T=seq_length)\n",
    "\n",
    "nad_sequencer = NonAdjacentDependencies(vocabulary_size=5, filler_variability=1, dependency_length=4)\n",
    "nad_sequencer.generate_stringset(set_length=n_strings, generator=False, violations=None)\n",
    "nad_sequence = nad_sequencer.generate_sequence()\n",
    "\n",
    "# brown_corp = NaturalLanguage(label=\"brown\", text_data=None, character_level=False)\n",
    "# brown_seq = brown_corp.sequence"
   ]
  },
  {
   "cell_type": "markdown",
   "metadata": {},
   "source": [
    "* Choose one sequencer to use in the rest of the notebook:"
   ]
  },
  {
   "cell_type": "code",
   "execution_count": 4,
   "metadata": {},
   "outputs": [],
   "source": [
    "sequencer = random_sequencer\n",
    "sequence = random_sequence"
   ]
  },
  {
   "cell_type": "markdown",
   "metadata": {},
   "source": [
    "* Create a few different embeddings as examples"
   ]
  },
  {
   "cell_type": "code",
   "execution_count": 5,
   "metadata": {},
   "outputs": [],
   "source": [
    "# vector / scalar embeddings\n",
    "scalar = VectorEmbeddings(vocabulary=sequencer.tokens).real_valued(dim=1, distribution=np.random.uniform, parameters={\n",
    "    'low': -1., 'high': 1.})\n",
    "\n",
    "one_hot = VectorEmbeddings(vocabulary=sequencer.tokens).one_hot()\n",
    "\n",
    "binary_codeword = VectorEmbeddings(vocabulary=sequencer.tokens).binary_codeword(dim=100, density=0.1)\n",
    "\n",
    "random_vector1 = VectorEmbeddings(vocabulary=sequencer.tokens).real_valued(dim=None, distribution=np.random.uniform, parameters={\n",
    "     'low': 0., 'high': 1.})\n",
    "\n",
    "random_vector2 = VectorEmbeddings(vocabulary=sequencer.tokens).real_valued(dim=1000, distribution=np.random.normal,\n",
    "                                                                    parameters={'loc': 0., 'scale': 0.5})"
   ]
  },
  {
   "cell_type": "markdown",
   "metadata": {},
   "source": [
    "* Choose one embedding to use in the rest of the notebook and generate discrete stimulus sequence:"
   ]
  },
  {
   "cell_type": "code",
   "execution_count": 6,
   "metadata": {},
   "outputs": [
    {
     "name": "stderr",
     "output_type": "stream",
     "text": [
      "[embeddings.py:216 - INFO] Generating stimulus sequence: 10 symbols\n",
      "[embeddings.py:216 - INFO] Generating stimulus sequence: 10 symbols\n"
     ]
    },
    {
     "data": {
      "image/png": "[encoded data removed]",
      "text/plain": [
       "<Figure size 576x576 with 1 Axes>"
      ]
     },
     "metadata": {
      "needs_background": "light"
     },
     "output_type": "display_data"
    }
   ],
   "source": [
    "emb = binary_codeword\n",
    "discrete_stim_seq = emb.draw_stimulus_sequence(sequence, as_array=True)\n",
    "\n",
    "emb.plot_sample(sequence[:10], save=False)"
   ]
  },
  {
   "cell_type": "markdown",
   "metadata": {},
   "source": [
    "**Note:** This discrete stimulus sequences is the input to be used in networks operating in discrete time. So, if the target network is discrete, the subsequent steps are not relevant."
   ]
  },
  {
   "cell_type": "markdown",
   "metadata": {},
   "source": [
    "* Generate continuous input - for continuous systems, we need to unfold the stimulus representations in time (see [embeddings](embeddings.ipynb#section2.2)), or, alternatively, convert each token to a unique spatiotemoral spike pattern (see [embeddings](embeddings.ipynb#section2.3))."
   ]
  },
  {
   "cell_type": "code",
   "execution_count": 7,
   "metadata": {},
   "outputs": [],
   "source": [
    "continuous = True # generate a continuous stimulus sequence or iterate"
   ]
  },
  {
   "cell_type": "code",
   "execution_count": 8,
   "metadata": {},
   "outputs": [
    {
     "name": "stderr",
     "output_type": "stream",
     "text": [
      "[embeddings.py:369 - INFO] Populating Stimulus Set: \n"
     ]
    }
   ],
   "source": [
    "# ################################\n",
    "# input from embedding\n",
    "# ######\n",
    "# a) unfold embedding to continuous signal\n",
    "signal_pars = {\n",
    "    'duration': 250., # single values or rvs\n",
    "    'amplitude': 100., # single value, list of dim, or rvs\n",
    "    'kernel': ('box', {}), # (kernel_label, {parameters}).. see documentation\n",
    "    'dt': 0.1 # dt\n",
    "}\n",
    "sig = emb.unfold(to_signal=True, **signal_pars)"
   ]
  },
  {
   "cell_type": "code",
   "execution_count": 9,
   "metadata": {},
   "outputs": [
    {
     "name": "stderr",
     "output_type": "stream",
     "text": [
      "[embeddings.py:295 - INFO] Populating Stimulus Set: \n"
     ]
    }
   ],
   "source": [
    "# ###############\n",
    "# b) Frozen noise from stimuli\n",
    "spk_pattern = DynamicEmbeddings(vocabulary=sequencer.tokens).frozen_noise(n_processes=100, pattern_duration=200., rate=10.,\n",
    "                                                                    resolution=0.1, jitter=None, rng=None)"
   ]
  },
  {
   "cell_type": "code",
   "execution_count": 10,
   "metadata": {},
   "outputs": [
    {
     "name": "stderr",
     "output_type": "stream",
     "text": [
      "[embeddings.py:369 - INFO] Populating Stimulus Set: \n"
     ]
    }
   ],
   "source": [
    "# ###############\n",
    "# c) unfold embedding to spikes\n",
    "spk_encoding_pars = {\n",
    "    'duration': 150.,\n",
    "    'rate_scale': 100.,\n",
    "    'dt': 0.1,\n",
    "    'jitter': None\n",
    "}\n",
    "spk_vec = emb.unfold(to_spikes=True, **spk_encoding_pars)"
   ]
  },
  {
   "cell_type": "markdown",
   "metadata": {},
   "source": [
    "* Choose one signal to use in the rest of the notebook and draw stimulus sequence:"
   ]
  },
  {
   "cell_type": "code",
   "execution_count": 11,
   "metadata": {},
   "outputs": [
    {
     "name": "stderr",
     "output_type": "stream",
     "text": [
      "[embeddings.py:668 - INFO] Generating stimulus sequence: 10 symbols\n",
      "[embeddings.py:668 - INFO] Generating stimulus sequence: 10 symbols\n"
     ]
    },
    {
     "data": {
      "image/png": "[encoded data removed]",
      "text/plain": [
       "<Figure size 576x576 with 2 Axes>"
      ]
     },
     "metadata": {
      "needs_background": "light"
     },
     "output_type": "display_data"
    },
    {
     "data": {
      "image/png": "[encoded data removed]",
      "text/plain": [
       "<Figure size 720x576 with 100 Axes>"
      ]
     },
     "metadata": {
      "needs_background": "light"
     },
     "output_type": "display_data"
    }
   ],
   "source": [
    "enc = sig\n",
    "stim_seq, _ = enc.draw_stimulus_sequence(sequence, onset_time=0.1, continuous=continuous, intervals=None)\n",
    "\n",
    "enc.plot_sample(sequence[:10], continuous=True, intervals=None, display=True, save=False)"
   ]
  },
  {
   "cell_type": "markdown",
   "metadata": {},
   "source": [
    "* Create target network (for simplicity, we will use a default BRN):"
   ]
  },
  {
   "cell_type": "code",
   "execution_count": 12,
   "metadata": {},
   "outputs": [],
   "source": [
    "resolution = 0.1\n",
    "example_defaults.reset_kernel(resolution=resolution, data_label='encoding_test')"
   ]
  },
  {
   "cell_type": "code",
   "execution_count": 13,
   "metadata": {},
   "outputs": [
    {
     "name": "stderr",
     "output_type": "stream",
     "text": [
      "[snn_network.py:83 - INFO] Initializing Brunel BRN architecture (NEST-simulated)\n",
      "[snn_network.py:157 - INFO] Creating populations:\n",
      "[snn_network.py:149 - INFO] - Population E, with ids [1-80]\n",
      "[snn_network.py:149 - INFO] - Population I, with ids [81-100]\n",
      "[snn_network.py:474 - INFO] Connecting Devices: \n",
      "[base.py:161 - INFO]   - Attaching spike_detector with gid [(101,)] to population E\n",
      "[snn_network.py:495 - INFO] - Connecting spike_detector to E, with label E_spike_detector and id (101,)\n",
      "[base.py:161 - INFO]   - Attaching spike_detector with gid [(102,)] to population I\n",
      "[snn_network.py:495 - INFO] - Connecting spike_detector to I, with label I_spike_detector and id (102,)\n",
      "[snn_network.py:179 - INFO] Initializing state variables:\n",
      "[base.py:127 - INFO] - Randomizing V_m state in Population E\n",
      "[base.py:127 - INFO] - Randomizing V_m state in Population I\n",
      "[snn_network.py:1137 - INFO] ========================================================\n",
      "[snn_network.py:1138 - INFO]  Brunel BRN architecture (NEST-simulated):\n",
      "[snn_network.py:1139 - INFO] --------------------------------------------------------\n",
      "[snn_network.py:1140 - INFO] - 2 Populations: ['E', 'I']\n",
      "[snn_network.py:1141 - INFO] - Size: 100 [80, 20]\n",
      "[snn_network.py:1143 - INFO] - Neuron models: ['iaf_psc_delta', 'iaf_psc_delta']\n",
      "[snn_network.py:1144 - INFO] - [1, 1] Devices connected: [['E_spike_detector'], ['I_spike_detector']]\n",
      "[snn_network.py:1146 - INFO]     E: ['E_spike_detector'], ['spike_detector']\n",
      "[snn_network.py:1146 - INFO]     I: ['I_spike_detector'], ['spike_detector']\n",
      "[connectivity.py:272 - INFO] Connecting networks: Brunel BRN -> Brunel BRN\n",
      "[connectivity.py:281 - INFO]     - ('E', 'E') [static_synapse]\n",
      "[connectivity.py:281 - INFO]     - ('E', 'I') [static_synapse]\n",
      "[connectivity.py:281 - INFO]     - ('I', 'E') [static_synapse]\n",
      "[connectivity.py:281 - INFO]     - ('I', 'I') [static_synapse]\n"
     ]
    }
   ],
   "source": [
    "# target network\n",
    "snn, snn_recurrent_connections = example_defaults.default_network(N=100, record_spikes=True)"
   ]
  },
  {
   "cell_type": "markdown",
   "metadata": {},
   "source": [
    "------------"
   ]
  },
  {
   "cell_type": "markdown",
   "metadata": {},
   "source": [
    "# **6. Delivering inputs to networks - stimulus encodings** <a id='section6'></a>"
   ]
  },
  {
   "cell_type": "markdown",
   "metadata": {},
   "source": [
    "* Stimuli are provided in `batches` comprising sequences of length $T$.\n",
    "* SNNs are a special case, as the input needs to be delivered in specific forms and requires the use of NEST generator devices."
   ]
  },
  {
   "cell_type": "markdown",
   "metadata": {},
   "source": [
    "# 6.1. `NESTEncoder` <a id='section6.1'></a>\n",
    "Using SNNs is a very special case."
   ]
  },
  {
   "cell_type": "code",
   "execution_count": 14,
   "metadata": {},
   "outputs": [],
   "source": [
    "from fna.encoders import NESTEncoder, InputMapper"
   ]
  },
  {
   "cell_type": "code",
   "execution_count": 15,
   "metadata": {},
   "outputs": [
    {
     "name": "stderr",
     "output_type": "stream",
     "text": [
      "[nest_encoder.py:33 - INFO] Creating Generators: \n",
      "[nest_encoder.py:36 - INFO] - spike-pattern-input [(103,)-(202,)]\n",
      "[nest_encoder.py:43 - INFO] Creating input parrots for spike-pattern-input:\n",
      "[nest_encoder.py:75 - INFO] - Population spike-pattern-input-parrots, with ids [203-302]\n",
      "[base.py:161 - INFO]   - Attaching spike_detector with gid [(303,)] to population input-parrots\n"
     ]
    }
   ],
   "source": [
    "# 1) Spike generator\n",
    "spk_encoder = NESTEncoder('spike_generator', stim_seq=stim_seq, label='spike-pattern-input', input_resolution=enc.dt,\n",
    "                        dim=emb.embedding_dimensions)\n",
    "spk_encoder.add_parrots(dt=resolution)"
   ]
  },
  {
   "cell_type": "code",
   "execution_count": 16,
   "metadata": {},
   "outputs": [
    {
     "name": "stderr",
     "output_type": "stream",
     "text": [
      "[nest_encoder.py:33 - INFO] Creating Generators: \n",
      "[nest_encoder.py:36 - INFO] - dc-input [(304,)-(403,)]\n"
     ]
    }
   ],
   "source": [
    "# 2) DC current\n",
    "dc_encoder = NESTEncoder('step_current_generator', stim_seq=stim_seq, label='dc-input', input_resolution=enc.dt,\n",
    "                        dim=emb.embedding_dimensions)"
   ]
  },
  {
   "cell_type": "code",
   "execution_count": 17,
   "metadata": {
    "pycharm": {
     "is_executing": false
    }
   },
   "outputs": [
    {
     "name": "stderr",
     "output_type": "stream",
     "text": [
      "[nest_encoder.py:33 - INFO] Creating Generators: \n",
      "[nest_encoder.py:36 - INFO] - poisson-input [(404,)-(503,)]\n",
      "[nest_encoder.py:43 - INFO] Creating input parrots for poisson-input:\n",
      "[nest_encoder.py:75 - INFO] - Population poisson-input-parrots, with ids [504-603]\n",
      "[base.py:161 - INFO]   - Attaching spike_detector with gid [(604,)] to population input-parrots\n"
     ]
    }
   ],
   "source": [
    "# 3) inhomogeneous Poisson generator\n",
    "poisson_encoder = NESTEncoder('inhomogeneous_poisson_generator', stim_seq=stim_seq, label='poisson-input', input_resolution=enc.dt,\n",
    "                        dim=emb.embedding_dimensions)\n",
    "poisson_encoder.add_parrots(dt=resolution)"
   ]
  },
  {
   "cell_type": "markdown",
   "metadata": {},
   "source": [
    "**Note:** The choice of device depends on the signal type. For example, a `spike_generator` can only be used if the input signal are spikes, whereas a `step_current_generator` or an `inhomogeneous_poisson_generator` can only be used if the input is a continuous signal."
   ]
  },
  {
   "cell_type": "markdown",
   "metadata": {},
   "source": [
    "* Choose generator "
   ]
  },
  {
   "cell_type": "code",
   "execution_count": 18,
   "metadata": {},
   "outputs": [],
   "source": [
    "gen = poisson_encoder"
   ]
  },
  {
   "cell_type": "markdown",
   "metadata": {},
   "source": [
    "* Connect encoders"
   ]
  },
  {
   "cell_type": "code",
   "execution_count": 19,
   "metadata": {},
   "outputs": [
    {
     "name": "stderr",
     "output_type": "stream",
     "text": [
      "[__init__.py:116 - INFO] Connecting input generators: poisson-input -> Brunel BRN\n",
      "[__init__.py:127 - INFO]     - ('E', 'poisson-input') [static_synapse]\n",
      "[__init__.py:127 - INFO]     - ('I', 'poisson-input') [static_synapse]\n"
     ]
    }
   ],
   "source": [
    "# input synapses\n",
    "input_syn = {'model': 'static_synapse', 'delay': 0.1, 'weight': 10.}\n",
    "input_conn = {'rule': 'all_to_all'}\n",
    "\n",
    "input_synapses = {\n",
    "    'connect_populations': [('E', gen.name), ('I', gen.name),],\n",
    "    'weight_matrix': [None, None],\n",
    "    'conn_specs': [input_conn, input_conn],\n",
    "    'syn_specs': [input_syn, input_syn]\n",
    "}\n",
    "in_to_snn_connections = InputMapper(source=gen, target=snn, parameters=input_synapses)"
   ]
  },
  {
   "cell_type": "markdown",
   "metadata": {},
   "source": [
    "* Simulate and plot"
   ]
  },
  {
   "cell_type": "code",
   "execution_count": 20,
   "metadata": {},
   "outputs": [],
   "source": [
    "if continuous:\n",
    "    snn.simulate(np.round(stim_seq.t_stop)+resolution)\n",
    "\n",
    "else:\n",
    "    for t in stim_seq: \n",
    "        gen.update_state(t, ids_to_update=list(t.id_list()))\n",
    "        snn.simulate(t.t_stop - t.t_start)"
   ]
  },
  {
   "cell_type": "code",
   "execution_count": 21,
   "metadata": {},
   "outputs": [
    {
     "data": {
      "image/png": "[encoded data removed]",
      "text/plain": [
       "<Figure size 432x288 with 2 Axes>"
      ]
     },
     "metadata": {
      "needs_background": "light"
     },
     "output_type": "display_data"
    },
    {
     "data": {
      "text/plain": [
       "[<matplotlib.lines.Line2D at 0x7fbb217f1550>]"
      ]
     },
     "execution_count": 21,
     "metadata": {},
     "output_type": "execute_result"
    },
    {
     "data": {
      "image/png": "[encoded data removed]",
      "text/plain": [
       "<Figure size 432x288 with 2 Axes>"
      ]
     },
     "metadata": {
      "needs_background": "light"
     },
     "output_type": "display_data"
    }
   ],
   "source": [
    "import nest.raster_plot\n",
    "from fna.tools.signals.spikes import SpikeList\n",
    "\n",
    "if continuous:\n",
    "    inp = stim_seq\n",
    "    if isinstance(inp, SpikeList):\n",
    "        inp.raster_plot(with_rate=True)\n",
    "    else:\n",
    "        inp.plot(as_array=True)\n",
    "\n",
    "nest.raster_plot.from_device(snn.device_gids[0][0])"
   ]
  },
  {
   "cell_type": "markdown",
   "metadata": {},
   "source": [
    "## 1.1. `NEF`-style encoding\n",
    "\n",
    "* Create Encoding SNN instance (do not connect)\n",
    "* Create `NESTEncoder` and connect to encoding SNN\n",
    "* Connect encoding SNN to main SNN"
   ]
  },
  {
   "cell_type": "code",
   "execution_count": 19,
   "metadata": {},
   "outputs": [
    {
     "name": "stderr",
     "output_type": "stream",
     "text": [
      "[snn_network.py:83 - INFO] Initializing NEF encoder architecture (NEST-simulated)\n",
      "[snn_network.py:157 - INFO] Creating populations:\n",
      "[snn_network.py:149 - INFO] - Population Enc, with ids [605-1604]\n",
      "[snn_network.py:474 - INFO] Connecting Devices: \n",
      "[snn_network.py:179 - INFO] Initializing state variables:\n",
      "[base.py:127 - INFO] - Randomizing V_m state in Population Enc\n",
      "[snn_network.py:1137 - INFO] ========================================================\n",
      "[snn_network.py:1138 - INFO]  NEF encoder architecture (NEST-simulated):\n",
      "[snn_network.py:1139 - INFO] --------------------------------------------------------\n",
      "[snn_network.py:1140 - INFO] - 1 Populations: ['Enc']\n",
      "[snn_network.py:1141 - INFO] - Size: 1000 [1000]\n",
      "[snn_network.py:1143 - INFO] - Neuron models: ['iaf_psc_delta']\n",
      "[snn_network.py:1144 - INFO] - [0] Devices connected: [[]]\n",
      "[snn_network.py:1146 - INFO]     Enc: [], []\n",
      "[input_mapper.py:35 - INFO] Connecting input generators: poisson-input -> NEF encoder\n",
      "[input_mapper.py:46 - INFO]     - ('Enc', 'poisson-input') [static_synapse]\n",
      "[connectivity.py:272 - INFO] Connecting networks: NEF encoder -> Brunel BRN\n",
      "[connectivity.py:281 - INFO]     - ('E', 'Enc') [static_synapse]\n",
      "[connectivity.py:281 - INFO]     - ('I', 'Enc') [static_synapse]\n"
     ]
    }
   ],
   "source": [
    "from fna.networks.snn import SpikingNetwork\n",
    "from fna.tools.network_architect.connectivity import NESTConnector\n",
    "\n",
    "# Encoder SNN\n",
    "# network parameters\n",
    "N_enc = 1000\n",
    "neuron_params = example_defaults.default_neuron_parameters(default_set=0)  # for convenience (full parameters can be passed)\n",
    "snn_parameters = {\n",
    "        'populations': ['Enc'],\n",
    "        'population_size': [N_enc],\n",
    "        'neurons': [neuron_params],\n",
    "        'randomize': [{'V_m': (np.random.uniform, {'low': neuron_params['E_L'], 'high': neuron_params['V_th']})}]}\n",
    "enc_snn = SpikingNetwork(snn_parameters, label='NEF encoder')\n",
    "\n",
    "# input to encoder synapses\n",
    "input_synapses = {\n",
    "    'connect_populations': [('Enc', gen.name)],\n",
    "    'weight_matrix': [None],\n",
    "    'conn_specs': [{'rule': 'all_to_all'}],\n",
    "    'syn_specs': [{'model': 'static_synapse', 'delay': 0.1, 'weight': 10.}]\n",
    "}\n",
    "in_to_nef = InputMapper(source=gen, target=enc_snn, parameters=input_synapses)\n",
    "\n",
    "# encoder to SNN\n",
    "snn_synapses = {\n",
    "        'connect_populations': [('E', 'Enc'), ('I', 'Enc')],\n",
    "        'weight_matrix': [None, None],\n",
    "        'conn_specs': [{'rule': 'fixed_indegree', 'indegree': 100}, {'rule': 'fixed_indegree', 'indegree': 100}],\n",
    "        'syn_specs': [{'model': 'static_synapse', 'delay': 1.5, 'weight': 10.}, {'model': 'static_synapse', 'delay': 1.5, 'weight': 10.}]\n",
    "    }\n",
    "nef_connections = NESTConnector(source_network=enc_snn, target_network=snn, connection_parameters=snn_synapses)"
   ]
  },
  {
   "cell_type": "code",
   "execution_count": null,
   "metadata": {},
   "outputs": [],
   "source": []
  }
 ],
 "metadata": {
  "kernelspec": {
   "display_name": "Python 3",
   "language": "python",
   "name": "python3"
  },
  "language_info": {
   "codemirror_mode": {
    "name": "ipython",
    "version": 3
   },
   "file_extension": ".py",
   "mimetype": "text/x-python",
   "name": "python",
   "nbconvert_exporter": "python",
   "pygments_lexer": "ipython3",
   "version": "3.8.10"
  },
  "widgets": {
   "application/vnd.jupyter.widget-state+json": {
    "state": {},
    "version_major": 2,
    "version_minor": 0
   }
  }
 },
 "nbformat": 4,
 "nbformat_minor": 4
}
